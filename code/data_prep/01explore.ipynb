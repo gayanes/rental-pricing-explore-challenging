{
 "cells": [
  {
   "cell_type": "markdown",
   "metadata": {},
   "source": [
    "## Data Exploration\n",
    "\n",
    "Before cleaning our dataset, let's explore the features that our dataset contains, as well as visuals."
   ]
  },
  {
   "cell_type": "code",
   "execution_count": 1,
   "metadata": {},
   "outputs": [],
   "source": [
    "# import required modules for this project\n",
    "\n",
    "import pandas as pd\n",
    "import numpy as np\n",
    "\n",
    "import matplotlib.pyplot as plt\n",
    "import seaborn as sns"
   ]
  },
  {
   "cell_type": "code",
   "execution_count": 2,
   "metadata": {},
   "outputs": [
    {
     "name": "stdout",
     "output_type": "stream",
     "text": [
      "   No  X2 house age X3 distance to the nearest MRT station  \\\n",
      "0   1          32.0                             \"84.87882\"   \n",
      "1   2          19.5                             \"306.5947\"   \n",
      "2   3          13.3                             \"561.9845\"   \n",
      "3   4          13.3                             \"561.9845\"   \n",
      "4   5           5.0                             \"390.5684\"   \n",
      "\n",
      "   X4 number of convenience stores  X5 latitude  X6 longitude  \\\n",
      "0                            100.0     24.98298     121.54024   \n",
      "1                              9.0     24.98034     121.53951   \n",
      "2                              5.0     24.98746     121.54391   \n",
      "3                              5.0     24.98746     121.54391   \n",
      "4                              5.0     24.97937     121.54245   \n",
      "\n",
      "   Y house price of unit area  \n",
      "0                        37.9  \n",
      "1                        42.2  \n",
      "2                        47.3  \n",
      "3                        54.8  \n",
      "4                        43.1  \n"
     ]
    }
   ],
   "source": [
    "# TODO: load in the excel file located in `data/raw/`\n",
    "df = pd.read_excel(\"../../data/raw/realestate.xlsx\")\n",
    "\n",
    "# TODO: print out the first 5 rows of data\n",
    "print(df.head(5))"
   ]
  },
  {
   "cell_type": "code",
   "execution_count": 3,
   "metadata": {},
   "outputs": [
    {
     "name": "stdout",
     "output_type": "stream",
     "text": [
      "<class 'pandas.core.frame.DataFrame'>\n",
      "RangeIndex: 414 entries, 0 to 413\n",
      "Data columns (total 7 columns):\n",
      " #   Column                                  Non-Null Count  Dtype  \n",
      "---  ------                                  --------------  -----  \n",
      " 0   No                                      414 non-null    int64  \n",
      " 1   X2 house age                            403 non-null    float64\n",
      " 2   X3 distance to the nearest MRT station  414 non-null    object \n",
      " 3   X4 number of convenience stores         413 non-null    float64\n",
      " 4   X5 latitude                             414 non-null    float64\n",
      " 5   X6 longitude                            414 non-null    float64\n",
      " 6   Y house price of unit area              414 non-null    float64\n",
      "dtypes: float64(5), int64(1), object(1)\n",
      "memory usage: 22.8+ KB\n",
      "None\n"
     ]
    }
   ],
   "source": [
    "# TODO: print out general information on this dataframe\n",
    "print(df.info())"
   ]
  },
  {
   "cell_type": "code",
   "execution_count": 4,
   "metadata": {},
   "outputs": [
    {
     "name": "stdout",
     "output_type": "stream",
     "text": [
      "               No  X2 house age  X4 number of convenience stores  X5 latitude  \\\n",
      "count  414.000000    403.000000                       413.000000   414.000000   \n",
      "mean   207.500000     18.607196                         4.283293    24.969030   \n",
      "std    119.655756     22.656541                         5.580361     0.012410   \n",
      "min      1.000000      0.000000                        -6.000000    24.932070   \n",
      "25%    104.250000      8.700000                         1.000000    24.963000   \n",
      "50%    207.500000     16.100000                         4.000000    24.971100   \n",
      "75%    310.750000     28.300000                         6.000000    24.977455   \n",
      "max    414.000000    410.300000                       100.000000    25.014590   \n",
      "\n",
      "       X6 longitude  Y house price of unit area  \n",
      "count    414.000000                  414.000000  \n",
      "mean     121.533361                   37.980193  \n",
      "std        0.015347                   13.606488  \n",
      "min      121.473530                    7.600000  \n",
      "25%      121.528085                   27.700000  \n",
      "50%      121.538630                   38.450000  \n",
      "75%      121.543305                   46.600000  \n",
      "max      121.566270                  117.500000  \n"
     ]
    }
   ],
   "source": [
    "# TODO: print out the summary statistics (mean, median, max, min, count) of all numeric columns\n",
    "print(df.describe())"
   ]
  },
  {
   "cell_type": "markdown",
   "metadata": {},
   "source": [
    "# Univariate Exploratory Analysis\n",
    "\n",
    "Let's explore the distribution of single variables in this dataset."
   ]
  },
  {
   "cell_type": "code",
   "execution_count": null,
   "metadata": {},
   "outputs": [],
   "source": [
    "# TODO : plot histograms, boxplots, and barcharts of all available numeric columns. \n",
    "# Create as many additional code blocks as needed to present your visualizations.\n",
    "# article: https://www.statology.org/univariate-analysis-in-python/ \n",
    "..."
   ]
  },
  {
   "cell_type": "markdown",
   "metadata": {},
   "source": [
    "# Bivariate Exploratory Analysis\n",
    "\n",
    "Let's explore the relationship of multiple variables in this dataset."
   ]
  },
  {
   "cell_type": "code",
   "execution_count": null,
   "metadata": {},
   "outputs": [],
   "source": [
    "# TODO : plot scatter-plots and other visualizations of all available numeric columns. \n",
    "# Create as many additional code blocks as needed to present your visualizations.\n",
    "# article: https://www.statology.org/bivariate-analysis-in-python/\n",
    "..."
   ]
  }
 ],
 "metadata": {
  "kernelspec": {
   "display_name": "Python 3",
   "language": "python",
   "name": "python3"
  },
  "language_info": {
   "codemirror_mode": {
    "name": "ipython",
    "version": 3
   },
   "file_extension": ".py",
   "mimetype": "text/x-python",
   "name": "python",
   "nbconvert_exporter": "python",
   "pygments_lexer": "ipython3",
   "version": "3.11.5"
  },
  "orig_nbformat": 4
 },
 "nbformat": 4,
 "nbformat_minor": 2
}

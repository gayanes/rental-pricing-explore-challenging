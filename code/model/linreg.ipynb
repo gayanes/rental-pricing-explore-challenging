{
 "cells": [
  {
   "cell_type": "markdown",
   "metadata": {},
   "source": [
    "# Linear Regression\n",
    "\n",
    "To predict our rental housing prices, we will begin with a linear regression model. To find out more about the maths behind regression, check out the [following article](https://onlinestatbook.com/2/regression/regression.html)."
   ]
  },
  {
   "cell_type": "code",
   "execution_count": 5,
   "metadata": {},
   "outputs": [],
   "source": [
    "\"\"\"\n",
    "A simple linear regression model with all predictors and target variable of\n",
    "price of unit area.\n",
    "\"\"\"\n",
    "\n",
    "from sklearn.linear_model import LinearRegression\n",
    "from sklearn.model_selection import train_test_split\n",
    "from sklearn.metrics import mean_squared_error\n",
    "\n",
    "import pandas as pd\n",
    "import pickle"
   ]
  },
  {
   "cell_type": "code",
   "execution_count": 11,
   "metadata": {},
   "outputs": [
    {
     "name": "stdout",
     "output_type": "stream",
     "text": [
      "R-squared: 0.4894348008682481\n",
      "MSE: 129.85749176246205\n"
     ]
    }
   ],
   "source": [
    "df = pd.read_excel(\"../../data/processed/real_estate.xlsx\")\n",
    "\n",
    "# Separates data into \"X\" and \"y\"\n",
    "X = df.drop(columns=\"price_unit_area\")\n",
    "y = df[\"price_unit_area\"]\n",
    "\n",
    "# Creates training and testing data\n",
    "X_train, X_test, y_train, y_test = train_test_split(X, y)\n",
    "\n",
    "# Creates linear regression based on testing data\n",
    "reg = LinearRegression().fit(X_train, y_train)\n",
    "\n",
    "# Calculates r-squared and means squared error for the linear regression\n",
    "r_squared = reg.score(X_test, y_test)\n",
    "print(\"R-squared:\", r_squared)\n",
    "\n",
    "y_pred = reg.predict(X_test)\n",
    "mse = mean_squared_error(y_test, y_pred)\n",
    "print(\"MSE:\", mse)\n",
    "\n",
    "\n",
    "# Serializes and saves the regression model\n",
    "pickle.dump(reg, open(\"saved_models/linreg.sav\", 'wb'))"
   ]
  }
 ],
 "metadata": {
  "kernelspec": {
   "display_name": "phase1",
   "language": "python",
   "name": "python3"
  },
  "language_info": {
   "codemirror_mode": {
    "name": "ipython",
    "version": 3
   },
   "file_extension": ".py",
   "mimetype": "text/x-python",
   "name": "python",
   "nbconvert_exporter": "python",
   "pygments_lexer": "ipython3",
   "version": "3.9.18"
  },
  "orig_nbformat": 4
 },
 "nbformat": 4,
 "nbformat_minor": 2
}
